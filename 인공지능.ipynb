{
  "nbformat": 4,
  "nbformat_minor": 0,
  "metadata": {
    "colab": {
      "provenance": [],
      "authorship_tag": "ABX9TyMMkM/HWRba0N48k8Dq2ugG",
      "include_colab_link": true
    },
    "kernelspec": {
      "name": "python3",
      "display_name": "Python 3"
    },
    "language_info": {
      "name": "python"
    }
  },
  "cells": [
    {
      "cell_type": "markdown",
      "metadata": {
        "id": "view-in-github",
        "colab_type": "text"
      },
      "source": [
        "<a href=\"https://colab.research.google.com/github/ehgur062300/A.I/blob/main/%EC%9D%B8%EA%B3%B5%EC%A7%80%EB%8A%A5.ipynb\" target=\"_parent\"><img src=\"https://colab.research.google.com/assets/colab-badge.svg\" alt=\"Open In Colab\"/></a>"
      ]
    },
    {
      "cell_type": "code",
      "source": [
        "name = input()\n",
        "age = input()"
      ],
      "metadata": {
        "colab": {
          "base_uri": "https://localhost:8080/"
        },
        "id": "Ra-3FB16mxpR",
        "outputId": "609d7404-7528-40fb-b8a6-80ce66223c41"
      },
      "execution_count": 76,
      "outputs": [
        {
          "name": "stdout",
          "output_type": "stream",
          "text": [
            "최도혁\n",
            "20\n"
          ]
        }
      ]
    },
    {
      "cell_type": "code",
      "source": [
        "print(\"이름:\",name)\n",
        "print(\"나이:\",age)"
      ],
      "metadata": {
        "colab": {
          "base_uri": "https://localhost:8080/"
        },
        "id": "VVSC6QHLm4JT",
        "outputId": "fd1be9fe-62d7-4c18-df01-9340252d4cf8"
      },
      "execution_count": 77,
      "outputs": [
        {
          "output_type": "stream",
          "name": "stdout",
          "text": [
            "이름: 최도혁\n",
            "나이: 20\n"
          ]
        }
      ]
    },
    {
      "cell_type": "code",
      "source": [
        "arr = {1,2,3,4,5,6,7,8,9}"
      ],
      "metadata": {
        "id": "X_4zD5a9obNY"
      },
      "execution_count": 78,
      "outputs": []
    },
    {
      "cell_type": "code",
      "source": [
        "for i in arr :\n",
        "  print(\"-------\",i,\"단-------\")\n",
        "  for j in arr :\n",
        "    print(\"구구단 : \",i,\"*\",j,\"=\", i*j, \"입니다.\")\n"
      ],
      "metadata": {
        "id": "NXQ1mziSnrQV",
        "colab": {
          "base_uri": "https://localhost:8080/"
        },
        "outputId": "cb139d19-bfb6-4529-abcc-dd19c16e3a3d"
      },
      "execution_count": 79,
      "outputs": [
        {
          "output_type": "stream",
          "name": "stdout",
          "text": [
            "------- 1 단-------\n",
            "구구단 :  1 * 1 = 1 입니다.\n",
            "구구단 :  1 * 2 = 2 입니다.\n",
            "구구단 :  1 * 3 = 3 입니다.\n",
            "구구단 :  1 * 4 = 4 입니다.\n",
            "구구단 :  1 * 5 = 5 입니다.\n",
            "구구단 :  1 * 6 = 6 입니다.\n",
            "구구단 :  1 * 7 = 7 입니다.\n",
            "구구단 :  1 * 8 = 8 입니다.\n",
            "구구단 :  1 * 9 = 9 입니다.\n",
            "------- 2 단-------\n",
            "구구단 :  2 * 1 = 2 입니다.\n",
            "구구단 :  2 * 2 = 4 입니다.\n",
            "구구단 :  2 * 3 = 6 입니다.\n",
            "구구단 :  2 * 4 = 8 입니다.\n",
            "구구단 :  2 * 5 = 10 입니다.\n",
            "구구단 :  2 * 6 = 12 입니다.\n",
            "구구단 :  2 * 7 = 14 입니다.\n",
            "구구단 :  2 * 8 = 16 입니다.\n",
            "구구단 :  2 * 9 = 18 입니다.\n",
            "------- 3 단-------\n",
            "구구단 :  3 * 1 = 3 입니다.\n",
            "구구단 :  3 * 2 = 6 입니다.\n",
            "구구단 :  3 * 3 = 9 입니다.\n",
            "구구단 :  3 * 4 = 12 입니다.\n",
            "구구단 :  3 * 5 = 15 입니다.\n",
            "구구단 :  3 * 6 = 18 입니다.\n",
            "구구단 :  3 * 7 = 21 입니다.\n",
            "구구단 :  3 * 8 = 24 입니다.\n",
            "구구단 :  3 * 9 = 27 입니다.\n",
            "------- 4 단-------\n",
            "구구단 :  4 * 1 = 4 입니다.\n",
            "구구단 :  4 * 2 = 8 입니다.\n",
            "구구단 :  4 * 3 = 12 입니다.\n",
            "구구단 :  4 * 4 = 16 입니다.\n",
            "구구단 :  4 * 5 = 20 입니다.\n",
            "구구단 :  4 * 6 = 24 입니다.\n",
            "구구단 :  4 * 7 = 28 입니다.\n",
            "구구단 :  4 * 8 = 32 입니다.\n",
            "구구단 :  4 * 9 = 36 입니다.\n",
            "------- 5 단-------\n",
            "구구단 :  5 * 1 = 5 입니다.\n",
            "구구단 :  5 * 2 = 10 입니다.\n",
            "구구단 :  5 * 3 = 15 입니다.\n",
            "구구단 :  5 * 4 = 20 입니다.\n",
            "구구단 :  5 * 5 = 25 입니다.\n",
            "구구단 :  5 * 6 = 30 입니다.\n",
            "구구단 :  5 * 7 = 35 입니다.\n",
            "구구단 :  5 * 8 = 40 입니다.\n",
            "구구단 :  5 * 9 = 45 입니다.\n",
            "------- 6 단-------\n",
            "구구단 :  6 * 1 = 6 입니다.\n",
            "구구단 :  6 * 2 = 12 입니다.\n",
            "구구단 :  6 * 3 = 18 입니다.\n",
            "구구단 :  6 * 4 = 24 입니다.\n",
            "구구단 :  6 * 5 = 30 입니다.\n",
            "구구단 :  6 * 6 = 36 입니다.\n",
            "구구단 :  6 * 7 = 42 입니다.\n",
            "구구단 :  6 * 8 = 48 입니다.\n",
            "구구단 :  6 * 9 = 54 입니다.\n",
            "------- 7 단-------\n",
            "구구단 :  7 * 1 = 7 입니다.\n",
            "구구단 :  7 * 2 = 14 입니다.\n",
            "구구단 :  7 * 3 = 21 입니다.\n",
            "구구단 :  7 * 4 = 28 입니다.\n",
            "구구단 :  7 * 5 = 35 입니다.\n",
            "구구단 :  7 * 6 = 42 입니다.\n",
            "구구단 :  7 * 7 = 49 입니다.\n",
            "구구단 :  7 * 8 = 56 입니다.\n",
            "구구단 :  7 * 9 = 63 입니다.\n",
            "------- 8 단-------\n",
            "구구단 :  8 * 1 = 8 입니다.\n",
            "구구단 :  8 * 2 = 16 입니다.\n",
            "구구단 :  8 * 3 = 24 입니다.\n",
            "구구단 :  8 * 4 = 32 입니다.\n",
            "구구단 :  8 * 5 = 40 입니다.\n",
            "구구단 :  8 * 6 = 48 입니다.\n",
            "구구단 :  8 * 7 = 56 입니다.\n",
            "구구단 :  8 * 8 = 64 입니다.\n",
            "구구단 :  8 * 9 = 72 입니다.\n",
            "------- 9 단-------\n",
            "구구단 :  9 * 1 = 9 입니다.\n",
            "구구단 :  9 * 2 = 18 입니다.\n",
            "구구단 :  9 * 3 = 27 입니다.\n",
            "구구단 :  9 * 4 = 36 입니다.\n",
            "구구단 :  9 * 5 = 45 입니다.\n",
            "구구단 :  9 * 6 = 54 입니다.\n",
            "구구단 :  9 * 7 = 63 입니다.\n",
            "구구단 :  9 * 8 = 72 입니다.\n",
            "구구단 :  9 * 9 = 81 입니다.\n"
          ]
        }
      ]
    },
    {
      "cell_type": "code",
      "source": [
        "exam = {60,80,95,69,90,81,80,69,79,66,70,90,96}\n",
        "list(exam)\n",
        "score = \"F\""
      ],
      "metadata": {
        "id": "bEcYP6XWp_MT"
      },
      "execution_count": 80,
      "outputs": []
    },
    {
      "cell_type": "code",
      "source": [
        "for i in exam :\n",
        "  if(i<=100 and i > 90) :\n",
        "    score = \"A\"\n",
        "  elif(i<=90 and i > 80) :\n",
        "    score = \"B\"\n",
        "  elif(i<=80 and i > 70) :\n",
        "    score = \"C\"\n",
        "  elif(i<=70 and i > 60) :\n",
        "    score = \"D\"\n",
        "  else :\n",
        "    score = \"F\"\n",
        "  print(\"당신의 성적은\",i,\"이므로 점수는\",score,\"입니다.\")"
      ],
      "metadata": {
        "id": "t5anj80lqLGB",
        "colab": {
          "base_uri": "https://localhost:8080/"
        },
        "outputId": "8266150f-d358-428f-f024-0f62a39921d0"
      },
      "execution_count": 81,
      "outputs": [
        {
          "output_type": "stream",
          "name": "stdout",
          "text": [
            "당신의 성적은 96 이므로 점수는 A 입니다.\n",
            "당신의 성적은 66 이므로 점수는 D 입니다.\n",
            "당신의 성적은 69 이므로 점수는 D 입니다.\n",
            "당신의 성적은 70 이므로 점수는 D 입니다.\n",
            "당신의 성적은 79 이므로 점수는 C 입니다.\n",
            "당신의 성적은 80 이므로 점수는 C 입니다.\n",
            "당신의 성적은 81 이므로 점수는 B 입니다.\n",
            "당신의 성적은 90 이므로 점수는 B 입니다.\n",
            "당신의 성적은 60 이므로 점수는 F 입니다.\n",
            "당신의 성적은 95 이므로 점수는 A 입니다.\n"
          ]
        }
      ]
    },
    {
      "cell_type": "code",
      "source": [
        "a = {1,2,3,4,5,6,7,8,9,10}\n",
        "sum = 0\n",
        "for i in a :\n",
        "  sum = sum+i\n",
        "  print(\"i의 값:\",i,\"합계:\",sum)"
      ],
      "metadata": {
        "colab": {
          "base_uri": "https://localhost:8080/"
        },
        "id": "3jS-2U0yryoe",
        "outputId": "514d5772-983e-4415-ac4d-090359bdba72"
      },
      "execution_count": 82,
      "outputs": [
        {
          "output_type": "stream",
          "name": "stdout",
          "text": [
            "i의 값: 1 합계: 1\n",
            "i의 값: 2 합계: 3\n",
            "i의 값: 3 합계: 6\n",
            "i의 값: 4 합계: 10\n",
            "i의 값: 5 합계: 15\n",
            "i의 값: 6 합계: 21\n",
            "i의 값: 7 합계: 28\n",
            "i의 값: 8 합계: 36\n",
            "i의 값: 9 합계: 45\n",
            "i의 값: 10 합계: 55\n"
          ]
        }
      ]
    },
    {
      "cell_type": "code",
      "source": [
        "price = int(input())\n",
        "print(\"금액 입력:\",price)\n",
        "\n",
        "if(price >= 10000):\n",
        "  print(\"구매가능\")\n",
        "\n",
        "else :\n",
        "  print(\"구매 불가능\")\n"
      ],
      "metadata": {
        "colab": {
          "base_uri": "https://localhost:8080/"
        },
        "id": "2J8OBeNYuVu4",
        "outputId": "5d20794d-fc9d-49cb-a244-6a10f375fed7"
      },
      "execution_count": 84,
      "outputs": [
        {
          "output_type": "stream",
          "name": "stdout",
          "text": [
            "10002\n",
            "금액 입력: 10002\n",
            "구매가능\n"
          ]
        }
      ]
    },
    {
      "cell_type": "code",
      "source": [
        "https://colab.research.google.com/drive/1_LlyqMpgWkm8NWNNLDPxwNVvh1KRbp7U?usp=sharing"
      ],
      "metadata": {
        "id": "NuzUA5IYxxuP"
      },
      "execution_count": null,
      "outputs": []
    }
  ]
}